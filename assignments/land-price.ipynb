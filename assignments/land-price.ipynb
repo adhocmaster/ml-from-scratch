{
 "cells": [
  {
   "cell_type": "markdown",
   "id": "7f6df878-8a25-463c-8aff-5876fc495c8b",
   "metadata": {},
   "source": [
    "# This assignment is to learn backpropagation\n",
    "\n",
    "## Dataset generation\n",
    "We create a function to generate data first. Your job is to create a model that can estimate that function"
   ]
  },
  {
   "cell_type": "code",
   "execution_count": 1,
   "id": "be9b9f9d-39ce-4198-8309-64904b4c1388",
   "metadata": {},
   "outputs": [],
   "source": [
    "import math\n",
    "import numpy as np\n",
    "import pandas as pd\n",
    "from tqdm import tqdm"
   ]
  },
  {
   "cell_type": "code",
   "execution_count": 2,
   "id": "b73f9036-ef62-4878-84f5-ae56ff890447",
   "metadata": {},
   "outputs": [],
   "source": [
    "# area of a rectangle given two sides, x and y\n",
    "def area(x: float, y: float) -> float:\n",
    "    return x * y\n",
    "\n",
    "\n",
    "def linearLandPrice(area: float) -> float: # linear wrt area\n",
    "    return 2500 + area * 1000\n",
    "\n",
    "def nonLinearLandPrice(area: float) -> float: # non-linear wrt area\n",
    "    return 2500 + area * 1000 + math.sqrt(area) * 10000\n"
   ]
  },
  {
   "cell_type": "code",
   "execution_count": 5,
   "id": "1a6ed7d8-07c8-43d6-86af-60b0e82baebd",
   "metadata": {},
   "outputs": [
    {
     "name": "stderr",
     "output_type": "stream",
     "text": [
      "100%|████████████████████████████████████████████████████████████████████████| 1000000/1000000 [00:01<00:00, 702243.06it/s]\n"
     ]
    }
   ],
   "source": [
    "X = []\n",
    "Y = []\n",
    "Area = []\n",
    "PriceLin = []\n",
    "PriceNonLin = []\n",
    "\n",
    "with tqdm(total=1000*1000) as pbar:\n",
    "    for x in range(1, 1001):\n",
    "        for y in range(1, 1001):\n",
    "            X.append(x)\n",
    "            Y.append(y)\n",
    "            area = x * y\n",
    "            Area.append(area)\n",
    "            PriceLin.append(linearLandPrice(area))\n",
    "            PriceNonLin.append(nonLinearLandPrice(area))\n",
    "            pbar.update(1)\n",
    "            \n",
    "dataset = pd.DataFrame(\n",
    "    {\n",
    "        \"x\": X,\n",
    "        \"y\": Y,\n",
    "        \"area\": Area,\n",
    "        \"price_linear\": PriceLin,\n",
    "        \"price_non_linear\":PriceNonLin\n",
    "    }\n",
    ")\n"
   ]
  },
  {
   "cell_type": "code",
   "execution_count": 6,
   "id": "13b562e1-72b7-4cea-a79b-90b39eda9448",
   "metadata": {},
   "outputs": [
    {
     "data": {
      "text/html": [
       "<div>\n",
       "<style scoped>\n",
       "    .dataframe tbody tr th:only-of-type {\n",
       "        vertical-align: middle;\n",
       "    }\n",
       "\n",
       "    .dataframe tbody tr th {\n",
       "        vertical-align: top;\n",
       "    }\n",
       "\n",
       "    .dataframe thead th {\n",
       "        text-align: right;\n",
       "    }\n",
       "</style>\n",
       "<table border=\"1\" class=\"dataframe\">\n",
       "  <thead>\n",
       "    <tr style=\"text-align: right;\">\n",
       "      <th></th>\n",
       "      <th>x</th>\n",
       "      <th>y</th>\n",
       "      <th>area</th>\n",
       "      <th>price_linear</th>\n",
       "      <th>price_non_linear</th>\n",
       "    </tr>\n",
       "  </thead>\n",
       "  <tbody>\n",
       "    <tr>\n",
       "      <th>0</th>\n",
       "      <td>1</td>\n",
       "      <td>1</td>\n",
       "      <td>1</td>\n",
       "      <td>3500</td>\n",
       "      <td>13500.000000</td>\n",
       "    </tr>\n",
       "    <tr>\n",
       "      <th>1</th>\n",
       "      <td>1</td>\n",
       "      <td>2</td>\n",
       "      <td>2</td>\n",
       "      <td>4500</td>\n",
       "      <td>18642.135624</td>\n",
       "    </tr>\n",
       "    <tr>\n",
       "      <th>2</th>\n",
       "      <td>1</td>\n",
       "      <td>3</td>\n",
       "      <td>3</td>\n",
       "      <td>5500</td>\n",
       "      <td>22820.508076</td>\n",
       "    </tr>\n",
       "    <tr>\n",
       "      <th>3</th>\n",
       "      <td>1</td>\n",
       "      <td>4</td>\n",
       "      <td>4</td>\n",
       "      <td>6500</td>\n",
       "      <td>26500.000000</td>\n",
       "    </tr>\n",
       "    <tr>\n",
       "      <th>4</th>\n",
       "      <td>1</td>\n",
       "      <td>5</td>\n",
       "      <td>5</td>\n",
       "      <td>7500</td>\n",
       "      <td>29860.679775</td>\n",
       "    </tr>\n",
       "  </tbody>\n",
       "</table>\n",
       "</div>"
      ],
      "text/plain": [
       "   x  y  area  price_linear  price_non_linear\n",
       "0  1  1     1          3500      13500.000000\n",
       "1  1  2     2          4500      18642.135624\n",
       "2  1  3     3          5500      22820.508076\n",
       "3  1  4     4          6500      26500.000000\n",
       "4  1  5     5          7500      29860.679775"
      ]
     },
     "execution_count": 6,
     "metadata": {},
     "output_type": "execute_result"
    }
   ],
   "source": [
    "dataset.head()"
   ]
  },
  {
   "cell_type": "markdown",
   "id": "245aab49-cf0d-4721-9654-f067930b52d2",
   "metadata": {},
   "source": [
    "## Task 1: input x, y, output is price_linear using a estimated function, a + bx + cy\n",
    "## Task 2: input area, output is price_non_linear using a estimated function, a + b * area\n",
    "## Task 3: input area, output is price_non_linear using a estimated function, a + b * g(area) where g(area) = sigmoid(c + d * area)\n",
    "## Task 4: input x, y, output is price_non_linear using any number of layers\n",
    "## Task 5: Compare performances by using RMSE (root mean squared error) of the models."
   ]
  },
  {
   "cell_type": "code",
   "execution_count": null,
   "id": "de084b6e-a36f-446e-b0aa-d34a86907c09",
   "metadata": {},
   "outputs": [],
   "source": []
  }
 ],
 "metadata": {
  "kernelspec": {
   "display_name": "Python 3 (ipykernel)",
   "language": "python",
   "name": "python3"
  },
  "language_info": {
   "codemirror_mode": {
    "name": "ipython",
    "version": 3
   },
   "file_extension": ".py",
   "mimetype": "text/x-python",
   "name": "python",
   "nbconvert_exporter": "python",
   "pygments_lexer": "ipython3",
   "version": "3.8.17"
  }
 },
 "nbformat": 4,
 "nbformat_minor": 5
}
