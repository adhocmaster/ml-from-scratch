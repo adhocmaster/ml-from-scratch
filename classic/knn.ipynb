{
 "cells": [
  {
   "cell_type": "code",
   "execution_count": 87,
   "id": "6b01e9b1-b259-4896-98a1-eb7825f5287f",
   "metadata": {},
   "outputs": [],
   "source": [
    "import numpy as np\n",
    "from sklearn import datasets\n",
    "from typing import *\n",
    "from collections import *\n",
    "import math\n",
    "import heapq\n",
    "from sklearn.model_selection import train_test_split\n",
    "from sklearn.metrics import confusion_matrix, ConfusionMatrixDisplay"
   ]
  },
  {
   "cell_type": "code",
   "execution_count": 34,
   "id": "3e3a2f04-6a8e-4e5a-8a4b-e8dde29ac6ee",
   "metadata": {},
   "outputs": [],
   "source": [
    "iris = datasets.load_iris()"
   ]
  },
  {
   "cell_type": "code",
   "execution_count": 35,
   "id": "2e074850-8de1-42f6-ace4-5fbefcf0b6a4",
   "metadata": {},
   "outputs": [
    {
     "name": "stdout",
     "output_type": "stream",
     "text": [
      ".. _iris_dataset:\n",
      "\n",
      "Iris plants dataset\n",
      "--------------------\n",
      "\n",
      "**Data Set Characteristics:**\n",
      "\n",
      "    :Number of Instances: 150 (50 in each of three classes)\n",
      "    :Number of Attributes: 4 numeric, predictive attributes and the class\n",
      "    :Attribute Information:\n",
      "        - sepal length in cm\n",
      "        - sepal width in cm\n",
      "        - petal length in cm\n",
      "        - petal width in cm\n",
      "        - class:\n",
      "                - Iris-Setosa\n",
      "                - Iris-Versicolour\n",
      "                - Iris-Virginica\n",
      "                \n",
      "    :Summary Statistics:\n",
      "\n",
      "    ============== ==== ==== ======= ===== ====================\n",
      "                    Min  Max   Mean    SD   Class Correlation\n",
      "    ============== ==== ==== ======= ===== ====================\n",
      "    sepal length:   4.3  7.9   5.84   0.83    0.7826\n",
      "    sepal width:    2.0  4.4   3.05   0.43   -0.4194\n",
      "    petal length:   1.0  6.9   3.76   1.76    0.9490  (high!)\n",
      "    petal width:    0.1  2.5   1.20   0.76    0.9565  (high!)\n",
      "    ============== ==== ==== ======= ===== ====================\n",
      "\n",
      "    :Missing Attribute Values: None\n",
      "    :Class Distribution: 33.3% for each of 3 classes.\n",
      "    :Creator: R.A. Fisher\n",
      "    :Donor: Michael Marshall (MARSHALL%PLU@io.arc.nasa.gov)\n",
      "    :Date: July, 1988\n",
      "\n",
      "The famous Iris database, first used by Sir R.A. Fisher. The dataset is taken\n",
      "from Fisher's paper. Note that it's the same as in R, but not as in the UCI\n",
      "Machine Learning Repository, which has two wrong data points.\n",
      "\n",
      "This is perhaps the best known database to be found in the\n",
      "pattern recognition literature.  Fisher's paper is a classic in the field and\n",
      "is referenced frequently to this day.  (See Duda & Hart, for example.)  The\n",
      "data set contains 3 classes of 50 instances each, where each class refers to a\n",
      "type of iris plant.  One class is linearly separable from the other 2; the\n",
      "latter are NOT linearly separable from each other.\n",
      "\n",
      ".. topic:: References\n",
      "\n",
      "   - Fisher, R.A. \"The use of multiple measurements in taxonomic problems\"\n",
      "     Annual Eugenics, 7, Part II, 179-188 (1936); also in \"Contributions to\n",
      "     Mathematical Statistics\" (John Wiley, NY, 1950).\n",
      "   - Duda, R.O., & Hart, P.E. (1973) Pattern Classification and Scene Analysis.\n",
      "     (Q327.D83) John Wiley & Sons.  ISBN 0-471-22361-1.  See page 218.\n",
      "   - Dasarathy, B.V. (1980) \"Nosing Around the Neighborhood: A New System\n",
      "     Structure and Classification Rule for Recognition in Partially Exposed\n",
      "     Environments\".  IEEE Transactions on Pattern Analysis and Machine\n",
      "     Intelligence, Vol. PAMI-2, No. 1, 67-71.\n",
      "   - Gates, G.W. (1972) \"The Reduced Nearest Neighbor Rule\".  IEEE Transactions\n",
      "     on Information Theory, May 1972, 431-433.\n",
      "   - See also: 1988 MLC Proceedings, 54-64.  Cheeseman et al\"s AUTOCLASS II\n",
      "     conceptual clustering system finds 3 classes in the data.\n",
      "   - Many, many more ...\n"
     ]
    }
   ],
   "source": [
    "print(iris[\"DESCR\"])"
   ]
  },
  {
   "cell_type": "code",
   "execution_count": 37,
   "id": "0791425e-2b3e-49e6-8893-6201f0e75ea9",
   "metadata": {},
   "outputs": [],
   "source": [
    "X, Y = iris[\"data\"], iris[\"target\"]\n",
    "assert len(X) == len(Y)"
   ]
  },
  {
   "cell_type": "code",
   "execution_count": 61,
   "id": "f3e30f89-f0a9-4c08-832f-98ff020cb398",
   "metadata": {},
   "outputs": [
    {
     "name": "stdout",
     "output_type": "stream",
     "text": [
      "Iris samples have 4 features and labels ['setosa' 'versicolor' 'virginica'], [0 1 2]\n"
     ]
    }
   ],
   "source": [
    "print(f\"Iris samples have {len(X[0])} features and labels {iris['target_names']}, {np.unique(Y)}\")"
   ]
  },
  {
   "cell_type": "code",
   "execution_count": 39,
   "id": "a0168852-7a64-4c83-8b84-d3ca57ca83e8",
   "metadata": {},
   "outputs": [],
   "source": [
    "\n",
    "Label = int\n",
    "Point = Iterable[float] "
   ]
  },
  {
   "cell_type": "code",
   "execution_count": 40,
   "id": "c21e24fc-f888-434f-a6ce-873994330d59",
   "metadata": {},
   "outputs": [],
   "source": [
    "# distance functions \n",
    "def ecDistance(point1:Point, point2:Point) -> float:\n",
    "    # assert len(point1) == len(point2)\n",
    "    ss = 0\n",
    "    for f1, f2 in zip(point1, point2):\n",
    "        ss += (f1 - f2) ** 2\n",
    "\n",
    "    return math.sqrt(ss)"
   ]
  },
  {
   "cell_type": "code",
   "execution_count": 83,
   "id": "ae9998ca-8d87-4be7-bc8d-fdbda5f520a3",
   "metadata": {},
   "outputs": [],
   "source": [
    "# knn\n",
    "def knn(k: int, similarityHandler: Callable, x:Point, X: List[Point], Y: List[Label]) -> Label:\n",
    "    # step 1: find k nearest neighbor\n",
    "    # step 2: return most frequent target\n",
    "    \n",
    "    # step 1:\n",
    "    distances = [(similarityHandler(x, x2), idx) for idx, x2 in enumerate(X)] # tuples of (distance, idx)\n",
    "    topTuples = heapq.nsmallest(k, distances) # O(nlogk)\n",
    "    counts = defaultdict(lambda: 0)\n",
    "    ans = None\n",
    "    maxC = 0\n",
    "    for _, idx in topTuples:\n",
    "        y = Y[idx] \n",
    "        counts[y] += 1\n",
    "        if counts[y] > maxC:\n",
    "            maxC = counts[y]\n",
    "            ans = y\n",
    "\n",
    "    return ans\n",
    "\n",
    "def knnAll(k: int, similarityHandler: Callable, X_test: List[Point], X: List[Point], Y: List[Label]) -> List[Label]:\n",
    "    Y_pred = []\n",
    "    for x in (X_test):\n",
    "        Y_pred.append(knn(k, similarityHandler, x, X_train, Y_train))\n",
    "    return Y_pred\n",
    "\n",
    "def accuracy(\n",
    "        k: int,\n",
    "        similarityHandler: Callable,\n",
    "        X_train: List[Point], \n",
    "        X_test: List[Point], \n",
    "        Y_train: List[Label], \n",
    "        Y_test: List[Label]\n",
    "    ) -> float:\n",
    "\n",
    "        Y_pred = knnAll(k, similarityHandler, X_test, X_train, Y_train)\n",
    "\n",
    "        correct = np.sum(np.equal(Y_test, Y_pred))\n",
    "        return correct / len(Y_test)\n",
    "\n",
    "def confusion(nLabels: int, Y_test: List[Label], Y_pred: List[Label]) -> List[List[int]]:\n",
    "    # one row for each actual label\n",
    "    # each row has labels 0-n\n",
    "    data = []\n",
    "    for _ in range(nLabels):\n",
    "        data.append([0] * nLabels)\n",
    "    for y, y_hat in zip(Y_test, Y_pred):\n",
    "        data[y][y_hat] += 1\n",
    "\n",
    "    return data\n",
    "    "
   ]
  },
  {
   "cell_type": "code",
   "execution_count": 77,
   "id": "2dc72baa-aa82-4a29-87e9-ad1fec2e28db",
   "metadata": {},
   "outputs": [],
   "source": [
    "X_train, X_test, Y_train, Y_test = train_test_split(X, Y, test_size=0.33, random_state=42)"
   ]
  },
  {
   "cell_type": "code",
   "execution_count": 78,
   "id": "88413344-c5e3-452e-9e9d-823012967ab4",
   "metadata": {},
   "outputs": [
    {
     "data": {
      "text/plain": [
       "(1, 1)"
      ]
     },
     "execution_count": 78,
     "metadata": {},
     "output_type": "execute_result"
    }
   ],
   "source": [
    "knn(3, ecDistance, X_test[0], X_train, Y_train), Y_test[0]"
   ]
  },
  {
   "cell_type": "code",
   "execution_count": 79,
   "id": "dd22de1f-5f11-42db-940d-d7a1bce63187",
   "metadata": {},
   "outputs": [
    {
     "data": {
      "text/plain": [
       "0.98"
      ]
     },
     "execution_count": 79,
     "metadata": {},
     "output_type": "execute_result"
    }
   ],
   "source": [
    "accuracy(3, ecDistance, X_train, X_test, Y_train, Y_test)"
   ]
  },
  {
   "cell_type": "code",
   "execution_count": 80,
   "id": "5f13d5a0-ef10-45ca-922f-a524b4de59fb",
   "metadata": {},
   "outputs": [],
   "source": [
    "Y_pred = knnAll(3, ecDistance, X_test, X_train, Y_train)"
   ]
  },
  {
   "cell_type": "code",
   "execution_count": 84,
   "id": "ae5df288-c566-47e3-8246-aa5891e1d6c7",
   "metadata": {},
   "outputs": [],
   "source": [
    "confusionMat = confusion(len(iris[\"target_names\"]), Y_test, Y_pred)"
   ]
  },
  {
   "cell_type": "code",
   "execution_count": 90,
   "id": "aed476b3-4a55-4900-9bb1-c71e14bfaebd",
   "metadata": {},
   "outputs": [],
   "source": [
    "# cm = confusion_matrix(Y_test, Y_pred, labels=[0, 1, 2])"
   ]
  },
  {
   "cell_type": "code",
   "execution_count": 96,
   "id": "e15defdc-1db1-4dcc-963b-b59df721026c",
   "metadata": {},
   "outputs": [],
   "source": [
    "cm = np.asarray(confusionMat)"
   ]
  },
  {
   "cell_type": "code",
   "execution_count": 97,
   "id": "0dd10528-fe43-4d17-81de-9b266732e4e0",
   "metadata": {},
   "outputs": [
    {
     "data": {
      "text/plain": [
       "<sklearn.metrics._plot.confusion_matrix.ConfusionMatrixDisplay at 0x1e044ab5190>"
      ]
     },
     "execution_count": 97,
     "metadata": {},
     "output_type": "execute_result"
    },
    {
     "data": {
      "image/png": "[encoded data removed]",
      "text/plain": [
       "<Figure size 640x480 with 2 Axes>"
      ]
     },
     "metadata": {},
     "output_type": "display_data"
    }
   ],
   "source": [
    "disp = ConfusionMatrixDisplay(confusion_matrix=cm, display_labels=iris[\"target_names\"])\n",
    "disp.plot()\n"
   ]
  },
  {
   "cell_type": "code",
   "execution_count": null,
   "id": "a99a2ab3-3cec-4f98-9ac2-5593d85ee1bf",
   "metadata": {},
   "outputs": [],
   "source": []
  }
 ],
 "metadata": {
  "kernelspec": {
   "display_name": "Python 3 (ipykernel)",
   "language": "python",
   "name": "python3"
  },
  "language_info": {
   "codemirror_mode": {
    "name": "ipython",
    "version": 3
   },
   "file_extension": ".py",
   "mimetype": "text/x-python",
   "name": "python",
   "nbconvert_exporter": "python",
   "pygments_lexer": "ipython3",
   "version": "3.8.17"
  }
 },
 "nbformat": 4,
 "nbformat_minor": 5
}
