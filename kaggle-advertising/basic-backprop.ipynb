{
 "cells": [
  {
   "cell_type": "markdown",
   "id": "2b822fc6-5dd7-4fe7-b0ea-d0849874478e",
   "metadata": {},
   "source": [
    "# 2-layer with sigmoid\n",
    "delta(E)/delta(w) = delta(E)/delta(o(z)) * "
   ]
  }
 ],
 "metadata": {
  "kernelspec": {
   "display_name": "Python 3 (ipykernel)",
   "language": "python",
   "name": "python3"
  },
  "language_info": {
   "codemirror_mode": {
    "name": "ipython",
    "version": 3
   },
   "file_extension": ".py",
   "mimetype": "text/x-python",
   "name": "python",
   "nbconvert_exporter": "python",
   "pygments_lexer": "ipython3",
   "version": "3.8.16"
  }
 },
 "nbformat": 4,
 "nbformat_minor": 5
}
