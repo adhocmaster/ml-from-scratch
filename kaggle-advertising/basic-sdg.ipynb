{
 "cells": [
  {
   "cell_type": "markdown",
   "id": "4f546ce1-1193-408a-845d-e23d6afb0658",
   "metadata": {},
   "source": [
    "[Source](https://towardsdatascience.com/implementing-gradient-descent-in-python-from-scratch-760a8556c31f)"
   ]
  },
  {
   "cell_type": "code",
   "execution_count": null,
   "id": "b11ad1ae-50b8-4f86-b9bb-4c3833d72817",
   "metadata": {},
   "outputs": [],
   "source": [
    "import pandas as pd\n",
    "import numpy as np\n",
    "import numpy.typing as npt\n",
    "from typing import *\n",
    "import matplotlib.pyplot as plt\n",
    "import seaborn as sns\n",
    "df=pd.read_csv('Advertising.csv')\n",
    "df.head()"
   ]
  },
  {
   "cell_type": "code",
   "execution_count": 2,
   "id": "46885f01-ddcf-404d-87c2-6f79f52d257e",
   "metadata": {},
   "outputs": [
    {
     "data": {
      "text/html": [
       "<div>\n",
       "<style scoped>\n",
       "    .dataframe tbody tr th:only-of-type {\n",
       "        vertical-align: middle;\n",
       "    }\n",
       "\n",
       "    .dataframe tbody tr th {\n",
       "        vertical-align: top;\n",
       "    }\n",
       "\n",
       "    .dataframe thead th {\n",
       "        text-align: right;\n",
       "    }\n",
       "</style>\n",
       "<table border=\"1\" class=\"dataframe\">\n",
       "  <thead>\n",
       "    <tr style=\"text-align: right;\">\n",
       "      <th></th>\n",
       "      <th>Unnamed: 0</th>\n",
       "      <th>TV</th>\n",
       "      <th>radio</th>\n",
       "      <th>newspaper</th>\n",
       "      <th>sales</th>\n",
       "    </tr>\n",
       "  </thead>\n",
       "  <tbody>\n",
       "    <tr>\n",
       "      <th>count</th>\n",
       "      <td>200.000000</td>\n",
       "      <td>200.000000</td>\n",
       "      <td>200.000000</td>\n",
       "      <td>200.000000</td>\n",
       "      <td>200.000000</td>\n",
       "    </tr>\n",
       "    <tr>\n",
       "      <th>mean</th>\n",
       "      <td>100.500000</td>\n",
       "      <td>147.042500</td>\n",
       "      <td>23.264000</td>\n",
       "      <td>30.554000</td>\n",
       "      <td>14.022500</td>\n",
       "    </tr>\n",
       "    <tr>\n",
       "      <th>std</th>\n",
       "      <td>57.879185</td>\n",
       "      <td>85.854236</td>\n",
       "      <td>14.846809</td>\n",
       "      <td>21.778621</td>\n",
       "      <td>5.217457</td>\n",
       "    </tr>\n",
       "    <tr>\n",
       "      <th>min</th>\n",
       "      <td>1.000000</td>\n",
       "      <td>0.700000</td>\n",
       "      <td>0.000000</td>\n",
       "      <td>0.300000</td>\n",
       "      <td>1.600000</td>\n",
       "    </tr>\n",
       "    <tr>\n",
       "      <th>25%</th>\n",
       "      <td>50.750000</td>\n",
       "      <td>74.375000</td>\n",
       "      <td>9.975000</td>\n",
       "      <td>12.750000</td>\n",
       "      <td>10.375000</td>\n",
       "    </tr>\n",
       "    <tr>\n",
       "      <th>50%</th>\n",
       "      <td>100.500000</td>\n",
       "      <td>149.750000</td>\n",
       "      <td>22.900000</td>\n",
       "      <td>25.750000</td>\n",
       "      <td>12.900000</td>\n",
       "    </tr>\n",
       "    <tr>\n",
       "      <th>75%</th>\n",
       "      <td>150.250000</td>\n",
       "      <td>218.825000</td>\n",
       "      <td>36.525000</td>\n",
       "      <td>45.100000</td>\n",
       "      <td>17.400000</td>\n",
       "    </tr>\n",
       "    <tr>\n",
       "      <th>max</th>\n",
       "      <td>200.000000</td>\n",
       "      <td>296.400000</td>\n",
       "      <td>49.600000</td>\n",
       "      <td>114.000000</td>\n",
       "      <td>27.000000</td>\n",
       "    </tr>\n",
       "  </tbody>\n",
       "</table>\n",
       "</div>"
      ],
      "text/plain": [
       "       Unnamed: 0          TV       radio   newspaper       sales\n",
       "count  200.000000  200.000000  200.000000  200.000000  200.000000\n",
       "mean   100.500000  147.042500   23.264000   30.554000   14.022500\n",
       "std     57.879185   85.854236   14.846809   21.778621    5.217457\n",
       "min      1.000000    0.700000    0.000000    0.300000    1.600000\n",
       "25%     50.750000   74.375000    9.975000   12.750000   10.375000\n",
       "50%    100.500000  149.750000   22.900000   25.750000   12.900000\n",
       "75%    150.250000  218.825000   36.525000   45.100000   17.400000\n",
       "max    200.000000  296.400000   49.600000  114.000000   27.000000"
      ]
     },
     "execution_count": 2,
     "metadata": {},
     "output_type": "execute_result"
    }
   ],
   "source": [
    "df.describe()"
   ]
  },
  {
   "cell_type": "code",
   "execution_count": 3,
   "id": "d4b30aae-c548-4bd1-8342-595c6f4bbdcc",
   "metadata": {},
   "outputs": [],
   "source": [
    "X = df[[\"TV\", \"radio\", \"newspaper\"]]\n",
    "Y = df[\"sales\"]\n",
    "yMean = Y.mean()\n",
    "yStd = Y.std()"
   ]
  },
  {
   "cell_type": "code",
   "execution_count": 4,
   "id": "0f363c87-a1f1-4587-8da8-0960635bd700",
   "metadata": {},
   "outputs": [],
   "source": [
    "Y = np.array((Y - yMean) / yStd)"
   ]
  },
  {
   "cell_type": "code",
   "execution_count": 5,
   "id": "4e4fce72-3e13-4e3a-bdb4-423027ae0ea6",
   "metadata": {},
   "outputs": [],
   "source": [
    "\n",
    "X = X.apply(lambda col: (col - col.mean()) / col.std(), axis=0)"
   ]
  },
  {
   "cell_type": "code",
   "execution_count": 6,
   "id": "5e309347-97e9-450e-867f-6acc01c7659b",
   "metadata": {},
   "outputs": [
    {
     "data": {
      "text/html": [
       "<div>\n",
       "<style scoped>\n",
       "    .dataframe tbody tr th:only-of-type {\n",
       "        vertical-align: middle;\n",
       "    }\n",
       "\n",
       "    .dataframe tbody tr th {\n",
       "        vertical-align: top;\n",
       "    }\n",
       "\n",
       "    .dataframe thead th {\n",
       "        text-align: right;\n",
       "    }\n",
       "</style>\n",
       "<table border=\"1\" class=\"dataframe\">\n",
       "  <thead>\n",
       "    <tr style=\"text-align: right;\">\n",
       "      <th></th>\n",
       "      <th>TV</th>\n",
       "      <th>radio</th>\n",
       "      <th>newspaper</th>\n",
       "    </tr>\n",
       "  </thead>\n",
       "  <tbody>\n",
       "    <tr>\n",
       "      <th>0</th>\n",
       "      <td>0.967425</td>\n",
       "      <td>0.979066</td>\n",
       "      <td>1.774493</td>\n",
       "    </tr>\n",
       "    <tr>\n",
       "      <th>1</th>\n",
       "      <td>-1.194379</td>\n",
       "      <td>1.080097</td>\n",
       "      <td>0.667903</td>\n",
       "    </tr>\n",
       "    <tr>\n",
       "      <th>2</th>\n",
       "      <td>-1.512360</td>\n",
       "      <td>1.524637</td>\n",
       "      <td>1.779084</td>\n",
       "    </tr>\n",
       "    <tr>\n",
       "      <th>3</th>\n",
       "      <td>0.051919</td>\n",
       "      <td>1.214806</td>\n",
       "      <td>1.283185</td>\n",
       "    </tr>\n",
       "    <tr>\n",
       "      <th>4</th>\n",
       "      <td>0.393196</td>\n",
       "      <td>-0.839507</td>\n",
       "      <td>1.278593</td>\n",
       "    </tr>\n",
       "    <tr>\n",
       "      <th>...</th>\n",
       "      <td>...</td>\n",
       "      <td>...</td>\n",
       "      <td>...</td>\n",
       "    </tr>\n",
       "    <tr>\n",
       "      <th>195</th>\n",
       "      <td>-1.267759</td>\n",
       "      <td>-1.317724</td>\n",
       "      <td>-0.769287</td>\n",
       "    </tr>\n",
       "    <tr>\n",
       "      <th>196</th>\n",
       "      <td>-0.615491</td>\n",
       "      <td>-1.236899</td>\n",
       "      <td>-1.031011</td>\n",
       "    </tr>\n",
       "    <tr>\n",
       "      <th>197</th>\n",
       "      <td>0.348934</td>\n",
       "      <td>-0.940539</td>\n",
       "      <td>-1.109069</td>\n",
       "    </tr>\n",
       "    <tr>\n",
       "      <th>198</th>\n",
       "      <td>1.590574</td>\n",
       "      <td>1.261955</td>\n",
       "      <td>1.636743</td>\n",
       "    </tr>\n",
       "    <tr>\n",
       "      <th>199</th>\n",
       "      <td>0.990720</td>\n",
       "      <td>-0.987687</td>\n",
       "      <td>-1.003461</td>\n",
       "    </tr>\n",
       "  </tbody>\n",
       "</table>\n",
       "<p>200 rows × 3 columns</p>\n",
       "</div>"
      ],
      "text/plain": [
       "           TV     radio  newspaper\n",
       "0    0.967425  0.979066   1.774493\n",
       "1   -1.194379  1.080097   0.667903\n",
       "2   -1.512360  1.524637   1.779084\n",
       "3    0.051919  1.214806   1.283185\n",
       "4    0.393196 -0.839507   1.278593\n",
       "..        ...       ...        ...\n",
       "195 -1.267759 -1.317724  -0.769287\n",
       "196 -0.615491 -1.236899  -1.031011\n",
       "197  0.348934 -0.940539  -1.109069\n",
       "198  1.590574  1.261955   1.636743\n",
       "199  0.990720 -0.987687  -1.003461\n",
       "\n",
       "[200 rows x 3 columns]"
      ]
     },
     "execution_count": 6,
     "metadata": {},
     "output_type": "execute_result"
    }
   ],
   "source": [
    "X\n"
   ]
  },
  {
   "cell_type": "markdown",
   "id": "aaecaf28-5cf3-4af4-8110-59d45e52665b",
   "metadata": {},
   "source": [
    "# y = beta + theta . X\n",
    "\n",
    "### We cannot do a gradient descent on RMSE as it does not conserve the sign of the error! So, we need instead of root mean squared error, we use mean squared error.\n",
    " There can be two different averaging algorithms: one is to get the mean error and multiply by the sum of gradients and divide by n. Another approach is for each weight, dot the errors with the respective gradient vector and then get the average of that. The latter makes more sense as we are computing the derivative of the error for each data point."
   ]
  },
  {
   "cell_type": "code",
   "execution_count": 107,
   "id": "4d475bcc-3933-4d8c-8450-81a9b86de43a",
   "metadata": {},
   "outputs": [],
   "source": [
    "def initWeights(dim: int) -> Tuple[float, npt.NDArray]:\n",
    "    beta = (np.random.rand() - 0.5) * 2\n",
    "    theta = (np.random.rand(dim) - 0.5) * 2\n",
    "    return beta, theta\n",
    "\n",
    "def predictNorm(X, beta, theta) -> float:\n",
    "    yNorm = beta + np.dot(X, theta)\n",
    "    return yNorm\n",
    "\n",
    "def unnormalise(yNorm) -> float:\n",
    "    return (yNorm * yStd) + yMean\n",
    "\n",
    "def rmse(Y: npt.NDArray, Y_hat: npt.NDArray) -> float:\n",
    "    residual = Y_hat - Y \n",
    "    sqm = np.dot(residual.T, residual) / len(Y)\n",
    "    root = np.sqrt(sqm)\n",
    "    return root\n",
    "\n",
    "def error(Y: npt.NDArray, Y_hat: npt.NDArray) -> float:\n",
    "    residual = Y_hat - Y \n",
    "    return np.sum(residual) / len(Y)\n",
    "\n",
    "def gd(X: npt.NDArray, LR: float, Y: npt.NDArray, Y_hat: npt.NDArray, beta0, theta0) -> Tuple[float, npt.NDArray]:\n",
    "    clipThreshold = 1\n",
    "    n = len(Y)\n",
    "    error = Y_hat - Y\n",
    "    # sqem = np.dot(error.T, error) / n # mean squared error\n",
    "    # print(\"sqem\", sqem)\n",
    "    # sqem = np.sum(np.square(error)) / n  # mean squared error\n",
    "    # print(\"sqem\", sqem)\n",
    "\n",
    "    \n",
    "    \n",
    "    # derivative of squared error = 2 * error * gradient.\n",
    "    \n",
    "    # dEdBeta = 0.5 * sqem # by chaining\n",
    "    dEdBeta = 2 * np.sum(error) / n # averaging by n. Using mean squared error instead of RMSE as the derivative has a sign.\n",
    "    \n",
    "    # now for each component of theta0, we need 0.5 * sqm * (sum of gradients for that component, i.e., for theta_1, we need x11 + x21 + .\n",
    "    gradients = np.sum(X, axis=0) \n",
    "    \n",
    "    # dEdTheta = 0.5 * sqem * gradients # we get partial derivatives of all the components\n",
    "    dEdTheta = 2 * np.dot(error, X) / n # e1x11 + e2x21 + e3x31...., e1x12 + e2x22 + e3x32, ...)\n",
    "    # print(\"dEdBeta\", dEdBeta)\n",
    "    # print(\"gradients\", gradients)\n",
    "    # print(\"dEdTheta\", dEdTheta)\n",
    "    \n",
    "    # update rule \n",
    "    beta = beta0 - LR * dEdBeta\n",
    "    if beta > clipThreshold:\n",
    "        beta = clipThreshold\n",
    "        \n",
    "    if beta < -clipThreshold:\n",
    "        beta = -clipThreshold\n",
    "        \n",
    "    theta = theta0 - LR * dEdTheta\n",
    "    \n",
    "    theta = np.clip(theta, -clipThreshold, clipThreshold)\n",
    "    \n",
    "    return beta, theta\n",
    "    \n",
    "\n",
    "    "
   ]
  },
  {
   "cell_type": "markdown",
   "id": "eb90bdd0-0d00-4272-8edf-27d1d5f85fbe",
   "metadata": {},
   "source": [
    "## SGD vs GD vs Mini Batch\n",
    "\n",
    "SGD is on single data points. Easier to implement. GD is on the whole dataset. After each epoch on the whole dataset, we get an average of the derivative.\n"
   ]
  },
  {
   "cell_type": "markdown",
   "id": "1191b6e9-26fb-4206-91f8-3bd40048b506",
   "metadata": {},
   "source": [
    "## GD"
   ]
  },
  {
   "cell_type": "code",
   "execution_count": 108,
   "id": "75bc47b1-8bca-432d-8ce4-a815224fbd30",
   "metadata": {},
   "outputs": [],
   "source": [
    "beta, theta = initWeights(3)"
   ]
  },
  {
   "cell_type": "code",
   "execution_count": 109,
   "id": "296f390c-4404-4e0b-8c08-20211454ad73",
   "metadata": {},
   "outputs": [
    {
     "name": "stdout",
     "output_type": "stream",
     "text": [
      "0.7164522186277411 [-0.55138869 -0.37097755 -0.45018769]\n"
     ]
    }
   ],
   "source": [
    "print(beta, theta)"
   ]
  },
  {
   "cell_type": "code",
   "execution_count": 110,
   "id": "a88442e0-fe7e-4172-b3ed-dd8521a8ac22",
   "metadata": {},
   "outputs": [],
   "source": [
    "XNp = X.to_numpy()\n",
    "Y_hat = predictNorm(XNp, beta, theta)"
   ]
  },
  {
   "cell_type": "code",
   "execution_count": 111,
   "id": "79228c5e-29dc-401d-b29f-a6da13760738",
   "metadata": {},
   "outputs": [
    {
     "data": {
      "text/plain": [
       "-0.9790408118010194"
      ]
     },
     "execution_count": 111,
     "metadata": {},
     "output_type": "execute_result"
    }
   ],
   "source": [
    "Y_hat[0]"
   ]
  },
  {
   "cell_type": "code",
   "execution_count": 112,
   "id": "8e615fdc-ecec-4242-9ab4-6984d8e554ba",
   "metadata": {},
   "outputs": [
    {
     "data": {
      "text/plain": [
       "1.9507975224099698"
      ]
     },
     "execution_count": 112,
     "metadata": {},
     "output_type": "execute_result"
    }
   ],
   "source": [
    "rmse(Y, Y_hat)"
   ]
  },
  {
   "cell_type": "code",
   "execution_count": 113,
   "id": "427a7b1b-035f-4364-8276-fab582801f21",
   "metadata": {},
   "outputs": [
    {
     "name": "stdout",
     "output_type": "stream",
     "text": [
      "0.7021231742551863 [-0.52393768 -0.34835455 -0.43345007]\n"
     ]
    }
   ],
   "source": [
    "beta, theta = gd(XNp, 0.01, Y, Y_hat, beta, theta)\n",
    "print(beta, theta)"
   ]
  },
  {
   "cell_type": "code",
   "execution_count": 93,
   "id": "cbd53b87-8909-4844-8b78-834c31b79ba4",
   "metadata": {},
   "outputs": [],
   "source": [
    "# n = len(XNp)\n",
    "# print(n)\n",
    "# np.dot(np.ones(n), XNp)"
   ]
  },
  {
   "cell_type": "code",
   "execution_count": 94,
   "id": "f83aee8f-145d-46ff-a5c3-4e28fb089d30",
   "metadata": {},
   "outputs": [],
   "source": [
    "# np.sum(XNp, axis=0)"
   ]
  },
  {
   "cell_type": "code",
   "execution_count": 148,
   "id": "216d8e99-cf4d-4767-af8e-27ad9d4e54ad",
   "metadata": {},
   "outputs": [],
   "source": [
    "# Training Loop\n",
    "beta, theta = initWeights(3)\n",
    "loss = []\n",
    "for i in range(1000):\n",
    "    Y_hat = predictNorm(XNp, beta, theta)\n",
    "    rms = rmse(Y, Y_hat)\n",
    "    if np.isnan(rms):\n",
    "        break\n",
    "\n",
    "    loss.append(rms)\n",
    "    beta, theta = gd(XNp, 0.001, Y, Y_hat, beta, theta)\n",
    "# loss"
   ]
  },
  {
   "cell_type": "code",
   "execution_count": 149,
   "id": "6fe01ff6-3df9-4903-b8aa-fb1500bbe50f",
   "metadata": {},
   "outputs": [
    {
     "data": {
      "text/plain": [
       "<Axes: >"
      ]
     },
     "execution_count": 149,
     "metadata": {},
     "output_type": "execute_result"
    },
    {
     "data": {
      "image/png": "[encoded data removed]",
      "text/plain": [
       "<Figure size 640x480 with 1 Axes>"
      ]
     },
     "metadata": {},
     "output_type": "display_data"
    }
   ],
   "source": [
    "\n",
    "sns.scatterplot(loss)"
   ]
  },
  {
   "cell_type": "code",
   "execution_count": 141,
   "id": "169be1d3-b785-440a-9653-6d83bd6a5c94",
   "metadata": {},
   "outputs": [
    {
     "data": {
      "text/html": [
       "<div>\n",
       "<style scoped>\n",
       "    .dataframe tbody tr th:only-of-type {\n",
       "        vertical-align: middle;\n",
       "    }\n",
       "\n",
       "    .dataframe tbody tr th {\n",
       "        vertical-align: top;\n",
       "    }\n",
       "\n",
       "    .dataframe thead th {\n",
       "        text-align: right;\n",
       "    }\n",
       "</style>\n",
       "<table border=\"1\" class=\"dataframe\">\n",
       "  <thead>\n",
       "    <tr style=\"text-align: right;\">\n",
       "      <th></th>\n",
       "      <th>Unnamed: 0</th>\n",
       "      <th>TV</th>\n",
       "      <th>radio</th>\n",
       "      <th>newspaper</th>\n",
       "      <th>sales</th>\n",
       "    </tr>\n",
       "  </thead>\n",
       "  <tbody>\n",
       "    <tr>\n",
       "      <th>0</th>\n",
       "      <td>1</td>\n",
       "      <td>230.1</td>\n",
       "      <td>37.8</td>\n",
       "      <td>69.2</td>\n",
       "      <td>22.1</td>\n",
       "    </tr>\n",
       "    <tr>\n",
       "      <th>1</th>\n",
       "      <td>2</td>\n",
       "      <td>44.5</td>\n",
       "      <td>39.3</td>\n",
       "      <td>45.1</td>\n",
       "      <td>10.4</td>\n",
       "    </tr>\n",
       "    <tr>\n",
       "      <th>2</th>\n",
       "      <td>3</td>\n",
       "      <td>17.2</td>\n",
       "      <td>45.9</td>\n",
       "      <td>69.3</td>\n",
       "      <td>9.3</td>\n",
       "    </tr>\n",
       "    <tr>\n",
       "      <th>3</th>\n",
       "      <td>4</td>\n",
       "      <td>151.5</td>\n",
       "      <td>41.3</td>\n",
       "      <td>58.5</td>\n",
       "      <td>18.5</td>\n",
       "    </tr>\n",
       "    <tr>\n",
       "      <th>4</th>\n",
       "      <td>5</td>\n",
       "      <td>180.8</td>\n",
       "      <td>10.8</td>\n",
       "      <td>58.4</td>\n",
       "      <td>12.9</td>\n",
       "    </tr>\n",
       "  </tbody>\n",
       "</table>\n",
       "</div>"
      ],
      "text/plain": [
       "   Unnamed: 0     TV  radio  newspaper  sales\n",
       "0           1  230.1   37.8       69.2   22.1\n",
       "1           2   44.5   39.3       45.1   10.4\n",
       "2           3   17.2   45.9       69.3    9.3\n",
       "3           4  151.5   41.3       58.5   18.5\n",
       "4           5  180.8   10.8       58.4   12.9"
      ]
     },
     "execution_count": 141,
     "metadata": {},
     "output_type": "execute_result"
    }
   ],
   "source": [
    "df.head()"
   ]
  },
  {
   "cell_type": "code",
   "execution_count": 124,
   "id": "f1ae9d00-39ae-43c9-b1a4-f7965d52626a",
   "metadata": {},
   "outputs": [],
   "source": [
    "YPredicted = unnormalise(Y_hat)"
   ]
  },
  {
   "cell_type": "code",
   "execution_count": 125,
   "id": "e4cd3988-ce01-4ce0-bcff-7d292c427dfa",
   "metadata": {},
   "outputs": [
    {
     "data": {
      "text/plain": [
       "array([20.52398025, 12.33785184, 12.30767274, 17.59783002, 13.18868749])"
      ]
     },
     "execution_count": 125,
     "metadata": {},
     "output_type": "execute_result"
    }
   ],
   "source": [
    "YPredicted[:5]"
   ]
  },
  {
   "cell_type": "code",
   "execution_count": 127,
   "id": "e52111ee-7ddf-4bc1-b5e3-34d6ad08e238",
   "metadata": {},
   "outputs": [
    {
     "data": {
      "text/plain": [
       "0.31980527671462733"
      ]
     },
     "execution_count": 127,
     "metadata": {},
     "output_type": "execute_result"
    }
   ],
   "source": [
    "loss[-1]"
   ]
  },
  {
   "cell_type": "markdown",
   "id": "ca077c47-4b5f-4757-9a52-6a0e6704830b",
   "metadata": {},
   "source": [
    "# SGD"
   ]
  },
  {
   "cell_type": "markdown",
   "id": "acd523fe-8a7c-49ea-84d8-7be677504961",
   "metadata": {},
   "source": [
    "In this approach, we will sample a data point, and update the weight on it. We will use the same methods but with single datapoints"
   ]
  },
  {
   "cell_type": "code",
   "execution_count": 135,
   "id": "354a9172-0e7a-4b46-aa04-acaf9addc55d",
   "metadata": {},
   "outputs": [],
   "source": [
    "# Training Loop\n",
    "beta, theta = initWeights(3)\n",
    "loss = []\n",
    "n = len(XNp)\n",
    "for _ in range(1000):\n",
    "    Y_hat = predictNorm(XNp, beta, theta)\n",
    "    rms = rmse(Y, Y_hat)\n",
    "    if np.isnan(rms):\n",
    "        break\n",
    "    loss.append(rms)\n",
    "    \n",
    "    sampleIdx = np.random.randint(0, n)\n",
    "    x = XNp[sampleIdx: sampleIdx+1]\n",
    "    y = Y[sampleIdx: sampleIdx+1]\n",
    "    y_hat = Y_hat[sampleIdx: sampleIdx+1]\n",
    "    beta, theta = gd(x, 0.001, y, y_hat, beta, theta)\n",
    "# loss"
   ]
  },
  {
   "cell_type": "code",
   "execution_count": 136,
   "id": "40ef00d6-e6d6-453f-b5b8-2f4e299bb697",
   "metadata": {},
   "outputs": [
    {
     "data": {
      "text/plain": [
       "<Axes: >"
      ]
     },
     "execution_count": 136,
     "metadata": {},
     "output_type": "execute_result"
    },
    {
     "data": {
      "image/png": "[encoded data removed]",
      "text/plain": [
       "<Figure size 640x480 with 1 Axes>"
      ]
     },
     "metadata": {},
     "output_type": "display_data"
    }
   ],
   "source": [
    "\n",
    "sns.scatterplot(loss)"
   ]
  },
  {
   "cell_type": "markdown",
   "id": "a5a306c9-78ee-4ade-abae-f1537b16453b",
   "metadata": {},
   "source": [
    "# Mini Batch (without shuffling)"
   ]
  },
  {
   "cell_type": "code",
   "execution_count": null,
   "id": "bf362a43-fe49-47b4-b761-fb42f9ab63bd",
   "metadata": {},
   "outputs": [],
   "source": [
    "def getBatch(idx, batchSize, X, Y, Y_hat) -> Tuple[npt.NDArray, npt.NDArray, npt.NDArray]:\n",
    "    nBatches = len(X) // batchSize\n",
    "    idx = idx % nBatches\n",
    "    startIdx = idx * batchSize\n",
    "    endIdx = (idx + 1) * batchSize\n",
    "    x = XNp[startIdx: endIdx]\n",
    "    y = Y[startIdx: endIdx]\n",
    "    y_hat = Y_hat[startIdx: endIdx]\n",
    "    \n",
    "    return x, y, y_hat\n",
    "    \n",
    "    \n",
    "\n",
    "# Training Loop\n",
    "beta, theta = initWeights(3)\n",
    "loss = []\n",
    "n = len(XNp)\n",
    "for _ in range(1000):\n",
    "    Y_hat = predictNorm(XNp, beta, theta)\n",
    "    rms = rmse(Y, Y_hat)\n",
    "    if np.isnan(rms):\n",
    "        break\n",
    "    loss.append(rms)\n",
    "    \n",
    "    x, y, y_hat = getBatch(\n",
    "    beta, theta = gd(x, 0.001, y, y_hat, beta, theta)\n",
    "# loss"
   ]
  },
  {
   "cell_type": "code",
   "execution_count": null,
   "id": "4dd54b96-e011-485f-913b-061d3a15558f",
   "metadata": {},
   "outputs": [],
   "source": [
    "sns.scatterplot(loss)"
   ]
  }
 ],
 "metadata": {
  "kernelspec": {
   "display_name": "Python 3 (ipykernel)",
   "language": "python",
   "name": "python3"
  },
  "language_info": {
   "codemirror_mode": {
    "name": "ipython",
    "version": 3
   },
   "file_extension": ".py",
   "mimetype": "text/x-python",
   "name": "python",
   "nbconvert_exporter": "python",
   "pygments_lexer": "ipython3",
   "version": "3.8.16"
  }
 },
 "nbformat": 4,
 "nbformat_minor": 5
}
