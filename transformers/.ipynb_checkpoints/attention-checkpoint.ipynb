{
 "cells": [
  {
   "cell_type": "markdown",
   "id": "eb7313f9-d09f-4a02-8851-2b935025725b",
   "metadata": {},
   "source": [
    "# Sources\n",
    "1. https://sebastianraschka.com/blog/2023/self-attention-from-scratch.html"
   ]
  },
  {
   "cell_type": "code",
   "execution_count": 1,
   "id": "3e319cc0-9b93-4eb2-b4e1-13a5c960a48b",
   "metadata": {},
   "outputs": [
    {
     "name": "stdout",
     "output_type": "stream",
     "text": [
      "{'Life': 0, 'dessert': 1, 'eat': 2, 'first': 3, 'is': 4, 'short': 5}\n"
     ]
    }
   ],
   "source": [
    "sentence = 'Life is short, eat dessert first'\n",
    "\n",
    "dc = {s:i for i,s in enumerate(sorted(sentence.replace(',', '').split()))}\n",
    "print(dc)"
   ]
  },
  {
   "cell_type": "code",
   "execution_count": 2,
   "id": "ad133a82-83d6-45f1-a056-b5ef58b3e9d3",
   "metadata": {},
   "outputs": [
    {
     "name": "stdout",
     "output_type": "stream",
     "text": [
      "tensor([0, 4, 5, 2, 1, 3])\n"
     ]
    }
   ],
   "source": [
    "import torch\n",
    "\n",
    "sentence_int = torch.tensor([dc[s] for s in sentence.replace(',', '').split()])\n",
    "print(sentence_int)"
   ]
  },
  {
   "cell_type": "code",
   "execution_count": 6,
   "id": "8b2d3038-4592-4d5d-a02e-4f545d13f011",
   "metadata": {},
   "outputs": [],
   "source": [
    "torch.manual_seed(123)\n",
    "embed = torch.nn.Embedding(6, 16)\n",
    "embeded_sentence = embed(sentence_int).detach()"
   ]
  },
  {
   "cell_type": "code",
   "execution_count": 4,
   "id": "fbd957d4-8484-409d-937b-a50a0bb01b01",
   "metadata": {},
   "outputs": [
    {
     "data": {
      "text/plain": [
       "torch.Tensor"
      ]
     },
     "execution_count": 4,
     "metadata": {},
     "output_type": "execute_result"
    }
   ],
   "source": [
    "type(embeded_sentence)"
   ]
  },
  {
   "cell_type": "code",
   "execution_count": 7,
   "id": "ec979eb9-790c-4a0f-8dc2-4fb478da04dd",
   "metadata": {},
   "outputs": [
    {
     "data": {
      "text/plain": [
       "tensor([[ 0.3374, -0.1778, -0.3035, -0.5880,  0.3486,  0.6603, -0.2196, -0.3792,\n",
       "          0.7671, -1.1925,  0.6984, -1.4097,  0.1794,  1.8951,  0.4954,  0.2692],\n",
       "        [ 0.5146,  0.9938, -0.2587, -1.0826, -0.0444,  1.6236, -2.3229,  1.0878,\n",
       "          0.6716,  0.6933, -0.9487, -0.0765, -0.1526,  0.1167,  0.4403, -1.4465],\n",
       "        [ 0.2553, -0.5496,  1.0042,  0.8272, -0.3948,  0.4892, -0.2168, -1.7472,\n",
       "         -1.6025, -1.0764,  0.9031, -0.7218, -0.5951, -0.7112,  0.6230, -1.3729],\n",
       "        [-1.3250,  0.1784, -2.1338,  1.0524, -0.3885, -0.9343, -0.4991, -1.0867,\n",
       "          0.8805,  1.5542,  0.6266, -0.1755,  0.0983, -0.0935,  0.2662, -0.5850],\n",
       "        [-0.0770, -1.0205, -0.1690,  0.9178,  1.5810,  1.3010,  1.2753, -0.2010,\n",
       "          0.4965, -1.5723,  0.9666, -1.1481, -1.1589,  0.3255, -0.6315, -2.8400],\n",
       "        [ 0.8768,  1.6221, -1.4779,  1.1331, -1.2203,  1.3139,  1.0533,  0.1388,\n",
       "          2.2473, -0.8036, -0.2808,  0.7697, -0.6596, -0.7979,  0.1838,  0.2293]])"
      ]
     },
     "execution_count": 7,
     "metadata": {},
     "output_type": "execute_result"
    }
   ],
   "source": [
    "embeded_sentence"
   ]
  },
  {
   "cell_type": "code",
   "execution_count": 8,
   "id": "2522db01-9810-4d97-860f-cb658560ad31",
   "metadata": {},
   "outputs": [],
   "source": [
    "d = embeded_sentence.shape[1]"
   ]
  },
  {
   "cell_type": "code",
   "execution_count": 9,
   "id": "7bf6e645-c102-4d7a-ad10-f06015325579",
   "metadata": {},
   "outputs": [
    {
     "data": {
      "text/plain": [
       "16"
      ]
     },
     "execution_count": 9,
     "metadata": {},
     "output_type": "execute_result"
    }
   ],
   "source": [
    "d"
   ]
  },
  {
   "cell_type": "code",
   "execution_count": 23,
   "id": "d2fbf449-2115-44da-b63b-f767f19fc3c7",
   "metadata": {},
   "outputs": [],
   "source": [
    "d_q, d_k, d_v = 24, 24, 28 # output channel of Q, K, and V nets"
   ]
  },
  {
   "cell_type": "code",
   "execution_count": 11,
   "id": "7746e99b-4b8d-4d63-8ed3-9f4d356c1298",
   "metadata": {},
   "outputs": [],
   "source": [
    "W_query = torch.nn.Parameter(torch.rand(d_q, d))\n",
    "W_key = torch.nn.Parameter(torch.rand(d_k, d))\n",
    "W_value = torch.nn.Parameter(torch.rand(d_v, d))"
   ]
  },
  {
   "cell_type": "markdown",
   "id": "92aaf257-c2d9-4ca2-8839-e74718a6cdc5",
   "metadata": {},
   "source": [
    "# Query = \"is\" - the second word in our sentence"
   ]
  },
  {
   "cell_type": "code",
   "execution_count": 13,
   "id": "3225002c-8c41-4797-bd26-f56f66a938d3",
   "metadata": {},
   "outputs": [
    {
     "name": "stdout",
     "output_type": "stream",
     "text": [
      "torch.Size([24])\n",
      "torch.Size([24])\n",
      "torch.Size([28])\n"
     ]
    }
   ],
   "source": [
    "x_2 = embeded_sentence[1]\n",
    "query_2 = W_query.matmul(x_2)\n",
    "key_2 = W_key.matmul(x_2)\n",
    "value_2 = W_value.matmul(x_2)\n",
    "\n",
    "print(query_2.shape)\n",
    "print(key_2.shape)\n",
    "print(value_2.shape)"
   ]
  },
  {
   "cell_type": "markdown",
   "id": "7f5ee132-4f7c-46e4-9b52-73f3a8805895",
   "metadata": {},
   "source": [
    "# query(token) = W_q x embedding(token) = An FFN with arbitary output channels.\n",
    "1. If we think of the token embedding vector as the input, multiplying with W_q is creating **W_q.shape[0]** output channels, just like a FFN.  **W_q.shape[1]** is input channels and  **W_q.shape[0]** is the output channels.\n",
    "2. We create 3 FFNs, Q, K, V\n",
    "3. Q, and K needs to have the same number of output channels. Explanation later"
   ]
  },
  {
   "cell_type": "code",
   "execution_count": 17,
   "id": "53e1ebaf-a43b-4a74-b426-180957439e9c",
   "metadata": {},
   "outputs": [
    {
     "name": "stdout",
     "output_type": "stream",
     "text": [
      "keys.shape: torch.Size([6, 24])\n",
      "values.shape: torch.Size([6, 28])\n"
     ]
    }
   ],
   "source": [
    "keys = W_key.matmul(embeded_sentence.T).T # converting 6 tokens to their keys. the keys will be in columns, to we transpose them. now we have 6x24 \n",
    "values = W_value.matmul(embeded_sentence.T).T\n",
    "\n",
    "print(\"keys.shape:\", keys.shape)\n",
    "print(\"values.shape:\", values.shape)"
   ]
  },
  {
   "cell_type": "markdown",
   "id": "b1d125f9-9ae8-45b3-a838-c4a17fe4914b",
   "metadata": {},
   "source": [
    "# Attention Weight!\n",
    "## The unnormalized weight, w_i_j = (query(current_token)(i)).T           x              key(other_token)(j)\n",
    "\n",
    "Interestingly, the dot product of current token query and some other token key is a cosine similarity! So, it's going to attend to tokens which have similar keys as the current token's query! Interestingly, there is probably only one way to express relationship between elements in NN: cosine similarity. So, to model relationships between users and products, we need to create two new embeddings of the same length, so that we can measure their similarity. The more products we have, the more channels we need. These embeddings are jointly learned because they need to learn the relationship along with entity identity."
   ]
  },
  {
   "cell_type": "code",
   "execution_count": 19,
   "id": "07307be4-ecd8-426f-b854-25992fc831f7",
   "metadata": {},
   "outputs": [
    {
     "data": {
      "text/plain": [
       "tensor(2.3206, grad_fn=<DotBackward0>)"
      ]
     },
     "execution_count": 19,
     "metadata": {},
     "output_type": "execute_result"
    }
   ],
   "source": [
    "omega_24 = query_2.dot(keys[4]) # second token to 5th token\n",
    "omega_24"
   ]
  },
  {
   "cell_type": "code",
   "execution_count": 20,
   "id": "8389aca2-0c69-4a4f-a116-ebb014a1f19c",
   "metadata": {},
   "outputs": [],
   "source": [
    "omega_2 = query_2.matmul(keys.T) # we saved the keys row-wise for tokens. each row -> a token"
   ]
  },
  {
   "cell_type": "code",
   "execution_count": 22,
   "id": "4d3c0885-97be-4268-84ba-df9d9110f907",
   "metadata": {},
   "outputs": [
    {
     "data": {
      "text/plain": [
       "tensor([ -7.0847,  -4.5398,   3.9887,  10.2379,   2.3206, -10.5434],\n",
       "       grad_fn=<SqueezeBackward3>)"
      ]
     },
     "execution_count": 22,
     "metadata": {},
     "output_type": "execute_result"
    }
   ],
   "source": [
    "omega_2 # we see that query_2 and keys[1] current does not have the highest similarity, because our Q and K networks are not trained yet."
   ]
  },
  {
   "cell_type": "markdown",
   "id": "3e9ed013-953f-4275-9441-b7ef4c115d44",
   "metadata": {},
   "source": [
    "## Normalizing attention weights\n",
    "We can normalized the attention weights by softmax directly. However, the authors in \"Attention is all you need\" scaled it by (1/root(dk)). It ensures that the euclidean length of the weight vectors to be approximately in the same magnitude."
   ]
  },
  {
   "cell_type": "code",
   "execution_count": 36,
   "id": "e1422067-683c-4bbb-a0a0-a87bcc9332dd",
   "metadata": {},
   "outputs": [
    {
     "data": {
      "text/plain": [
       "tensor([0.0185, 0.0312, 0.1778, 0.6368, 0.1265, 0.0092],\n",
       "       grad_fn=<SoftmaxBackward0>)"
      ]
     },
     "execution_count": 36,
     "metadata": {},
     "output_type": "execute_result"
    }
   ],
   "source": [
    "import torch.nn.functional as F\n",
    "# attention_weights_2_no_scaling = F.softmax(omega_2 / d_k, dim=0)\n",
    "attention_weights_2 = F.softmax(omega_2 / d_k ** 0.5, dim=0)\n",
    "# attention_weights_2_arbitary = F.softmax(omega_2 / 100, dim=0) # arbitary is not good!\n",
    "# print(attention_weights_2_no_scaling, attention_weights_2, attention_weights_2_arbitary)\n",
    "attention_weights_2"
   ]
  },
  {
   "cell_type": "markdown",
   "id": "06c32f5b-d390-4a94-a354-02470eb59b98",
   "metadata": {},
   "source": [
    "# Now the context vector\n",
    "The context vector is the most confusing. So, each token value is multiplied by its correspoinding weight. Then the columns are summed. Don't know what it accumulates. But more related tokens will have more information added to the context."
   ]
  }
 ],
 "metadata": {
  "kernelspec": {
   "display_name": "Python 3 (ipykernel)",
   "language": "python",
   "name": "python3"
  },
  "language_info": {
   "codemirror_mode": {
    "name": "ipython",
    "version": 3
   },
   "file_extension": ".py",
   "mimetype": "text/x-python",
   "name": "python",
   "nbconvert_exporter": "python",
   "pygments_lexer": "ipython3",
   "version": "3.7.9"
  }
 },
 "nbformat": 4,
 "nbformat_minor": 5
}
