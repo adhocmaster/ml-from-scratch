{
 "cells": [
  {
   "cell_type": "markdown",
   "id": "a1d9a759-1ec9-491d-8c38-9bcd064d6a30",
   "metadata": {},
   "source": [
    "# Sources\n",
    "1. https://medium.com/the-dl/transformers-from-scratch-in-pytorch-8777e346ca51\n",
    "2. https://e2eml.school/transformers.html\n",
    "3. http://nlp.seas.harvard.edu/annotated-transformer/\n"
   ]
  },
  {
   "cell_type": "markdown",
   "id": "984a8da8-42e0-4b70-ac19-a0f2b82b67ed",
   "metadata": {},
   "source": [
    "# Attention\n",
    "\n",
    "Dataset = {give me a baloon, feed me a chicken} = 6 unique words in the vocabulary\n",
    "\n",
    "N = n(Vocabulary) = 6\n",
    "\n",
    "**Query vector** = one-hot feature vector (not one-hot word vectors). \n",
    "\n",
    "**n(Q)** = 6 = N\n",
    "\n",
    "**features** != (pairs of words). feature for a most recent one word is = f(most-recent + a-few-words-before) = an estimate and fixed-size\n",
    "\n",
    "**feature mask (query)** = for each query we have a feature mask. So, n(masks) = n(Q)\n",
    "\n",
    "transition table = N^2\n",
    "\n"
   ]
  },
  {
   "cell_type": "code",
   "execution_count": null,
   "id": "d491f0b1-8672-42dd-950f-82960cd01164",
   "metadata": {},
   "outputs": [],
   "source": []
  }
 ],
 "metadata": {
  "kernelspec": {
   "display_name": "Python 3 (ipykernel)",
   "language": "python",
   "name": "python3"
  },
  "language_info": {
   "codemirror_mode": {
    "name": "ipython",
    "version": 3
   },
   "file_extension": ".py",
   "mimetype": "text/x-python",
   "name": "python",
   "nbconvert_exporter": "python",
   "pygments_lexer": "ipython3",
   "version": "3.7.9"
  }
 },
 "nbformat": 4,
 "nbformat_minor": 5
}
